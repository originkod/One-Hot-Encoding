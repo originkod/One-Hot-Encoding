{
  "nbformat": 4,
  "nbformat_minor": 0,
  "metadata": {
    "colab": {
      "provenance": []
    },
    "kernelspec": {
      "name": "python3",
      "display_name": "Python 3"
    },
    "language_info": {
      "name": "python"
    }
  },
  "cells": [
    {
      "cell_type": "code",
      "source": [
        "import pandas as pd\n",
        "\n",
        "# Örnek veri kümesini oluşturalım\n",
        "data = {'ID': [1, 2, 3, 4],\n",
        "        'Cinsiyet': ['Erkek', 'Kadın', 'Erkek', 'Kadın'],\n",
        "        'Sınıf': ['11. Sınıf', '10. Sınıf', '12. Sınıf', '11. Sınıf'],\n",
        "        'Şehir': ['İstanbul', 'Ankara', 'İzmir', 'Bursa']}\n",
        "\n",
        "df = pd.DataFrame(data)\n",
        "\n",
        "print(df)\n",
        "\n"
      ],
      "metadata": {
        "colab": {
          "base_uri": "https://localhost:8080/"
        },
        "id": "Xh7yd0q2qhc8",
        "outputId": "b9f67715-0ef8-4097-9f77-2ba719933ad3"
      },
      "execution_count": 3,
      "outputs": [
        {
          "output_type": "stream",
          "name": "stdout",
          "text": [
            "   ID Cinsiyet      Sınıf     Şehir\n",
            "0   1    Erkek  11. Sınıf  İstanbul\n",
            "1   2    Kadın  10. Sınıf    Ankara\n",
            "2   3    Erkek  12. Sınıf     İzmir\n",
            "3   4    Kadın  11. Sınıf     Bursa\n"
          ]
        }
      ]
    },
    {
      "cell_type": "code",
      "source": [
        "# \"One-Hot Encoding\" işlemi\n",
        "df_encoded = pd.get_dummies(df, columns=['Cinsiyet', 'Sınıf', 'Şehir'])\n",
        "\n",
        "print(df_encoded)\n"
      ],
      "metadata": {
        "colab": {
          "base_uri": "https://localhost:8080/"
        },
        "id": "_vX5BSy6ZvUU",
        "outputId": "bea18719-c3d7-4a77-e335-56ec3e971fcf"
      },
      "execution_count": 4,
      "outputs": [
        {
          "output_type": "stream",
          "name": "stdout",
          "text": [
            "   ID  Cinsiyet_Erkek  Cinsiyet_Kadın  Sınıf_10. Sınıf  Sınıf_11. Sınıf  \\\n",
            "0   1               1               0                0                1   \n",
            "1   2               0               1                1                0   \n",
            "2   3               1               0                0                0   \n",
            "3   4               0               1                0                1   \n",
            "\n",
            "   Sınıf_12. Sınıf  Şehir_Ankara  Şehir_Bursa  Şehir_İstanbul  Şehir_İzmir  \n",
            "0                0             0            0               1            0  \n",
            "1                0             1            0               0            0  \n",
            "2                1             0            0               0            1  \n",
            "3                0             0            1               0            0  \n"
          ]
        }
      ]
    },
    {
      "cell_type": "markdown",
      "source": [
        "- **pd.get_dummies()** fonksiyonu, kategorik (sınıflandırılmış) verileri sayısal verilere dönüştürmek için kullanılır. Bu, özellikle makine öğrenimi modellerinin bu tür verilerle çalışmasını kolaylaştırır.\n",
        "Her bir benzersiz değer, bir kategori olarak kabul edilir ve bu kategorinin olup olmadığını belirlemek için 1 (var) veya 0 (yok) kullanır."
      ],
      "metadata": {
        "id": "CmlL2PyMkAhK"
      }
    }
  ]
}